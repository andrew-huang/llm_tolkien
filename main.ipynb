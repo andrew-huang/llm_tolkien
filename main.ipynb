{
 "cells": [
  {
   "cell_type": "code",
   "execution_count": 2,
   "metadata": {
    "ExecuteTime": {
     "end_time": "2023-09-28T05:49:37.172227Z",
     "start_time": "2023-09-28T05:49:37.155339Z"
    }
   },
   "outputs": [],
   "source": [
    "%load_ext autoreload\n",
    "%autoreload 2"
   ]
  },
  {
   "cell_type": "code",
   "execution_count": 6,
   "metadata": {
    "ExecuteTime": {
     "end_time": "2023-09-29T05:22:52.789481Z",
     "start_time": "2023-09-29T05:22:52.784163Z"
    }
   },
   "outputs": [],
   "source": [
    "from llm import config as config_llm\n",
    "from llm.extract_text import extract\n",
    "from llm.prepare_dataset import prepare_dataset\n",
    "from llm.training import LLMTolkien"
   ]
  },
  {
   "cell_type": "code",
   "execution_count": null,
   "metadata": {},
   "outputs": [],
   "source": [
    "# config_llm.url config_llm.start_page config_llm.end_page\n",
    "books = [\n",
    "    {\"url\": 'books/', \"start_page\": , \"end_page\": },\n",
    "]\n",
    "\n",
    "for book in books:\n",
    "    extract(\n",
    "        url=book[\"url\"], \n",
    "        start_page=book[\"start_page\"], \n",
    "        end_page=book[\"end_page\"], \n",
    "        header_height=config_llm.header_height, \n",
    "        footer_height=config_llm.footer_height,\n",
    "        extraction_path=config_llm.extraction_path,\n",
    "        is_local=True,\n",
    "        )"
   ]
  },
  {
   "cell_type": "code",
   "execution_count": null,
   "outputs": [],
   "source": [
    "from huggingface_hub import interpreter_login\n",
    "\n",
    "interpreter_login()"
   ],
   "metadata": {
    "collapsed": false
   }
  },
  {
   "cell_type": "code",
   "execution_count": null,
   "metadata": {},
   "outputs": [],
   "source": [
    "prepare_dataset(\n",
    "    dataset_path=config_llm.extraction_path, \n",
    "    min_length=config_llm.min_length,\n",
    "    context_length=config_llm.context_length,\n",
    "    test_size=config_llm.test_size,\n",
    "    shuffle=config_llm.shuffle,\n",
    "    hf_repo=config_llm.hf_repo,\n",
    "    model_name=config_llm.model_name,\n",
    "    hf_book_repo=config_llm.hf_book_repo,\n",
    "    )"
   ]
  },
  {
   "cell_type": "code",
   "execution_count": null,
   "metadata": {},
   "outputs": [],
   "source": [
    "lora_config = {\n",
    "    \"r\": config_llm.lora_r,\n",
    "    \"lora_alpha\": config_llm.lora_alpha,\n",
    "    \"lora_dropout\": config_llm.lora_dropout, \n",
    "    'bias': config_llm.lora_bias,\n",
    "    \"task_type\": config_llm.lora_task_type,\n",
    "}\n",
    "\n",
    "trainer_config = {\n",
    "    \"per_device_train_batch_size\": config_llm.per_device_train_batch_size, \n",
    "    \"gradient_accumulation_steps\": config_llm.gradient_accumulation_steps,\n",
    "    \"warmup_steps\": config_llm.warmup_steps,\n",
    "    \"weight_decay\": config_llm.weight_decay,\n",
    "    \"num_train_epochs\": config_llm.num_train_epochs,\n",
    "    \"learning_rate\": config_llm.learning_rate, \n",
    "    \"fp16\": config_llm.fp16,\n",
    "    \"logging_steps\": config_llm.logging_steps, \n",
    "    \"output_dir\": config_llm.hf_repo,\n",
    "    \"overwrite_output_dir\": config_llm.overwrite_output_dir,\n",
    "    \"evaluation_strategy\": config_llm.evaluation_strategy,\n",
    "    \"save_strategy\": config_llm.save_strategy,\n",
    "    \"push_to_hub\": config_llm.push_to_hub\n",
    "}\n",
    "\n",
    "model = LLMTolkien(config_llm.model_name)\n",
    "model.train(\n",
    "    hf_repo=config_llm.hf_repo,\n",
    "    lora_config=lora_config,\n",
    "    trainer_config=trainer_config,\n",
    "    mlm=config_llm.mlm,\n",
    "    push_to_hub=False,\n",
    ")"
   ]
  },
  {
   "cell_type": "code",
   "execution_count": null,
   "metadata": {},
   "outputs": [],
   "source": []
  }
 ],
 "metadata": {
  "kernelspec": {
   "display_name": "llm_lotr",
   "language": "python",
   "name": "python3"
  },
  "language_info": {
   "codemirror_mode": {
    "name": "ipython",
    "version": 3
   },
   "file_extension": ".py",
   "mimetype": "text/x-python",
   "name": "python",
   "nbconvert_exporter": "python",
   "pygments_lexer": "ipython3",
   "version": "3.11.4"
  },
  "orig_nbformat": 4
 },
 "nbformat": 4,
 "nbformat_minor": 2
}
